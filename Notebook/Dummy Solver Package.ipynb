{
 "cells": [
  {
   "cell_type": "code",
   "execution_count": 199,
   "id": "recognized-ethnic",
   "metadata": {},
   "outputs": [],
   "source": [
    "import numpy as np"
   ]
  },
  {
   "cell_type": "code",
   "execution_count": 55,
   "id": "environmental-oliver",
   "metadata": {},
   "outputs": [],
   "source": [
    "def transpositionMatrix(n,r1,r2):\n",
    "    \"\"\"\n",
    "    This function creates a row permuation matrix P. \n",
    "\n",
    "    Input: size n, index of rows r1, r2 to be permuted\n",
    "    \"\"\"\n",
    "    P=np.eye(n); P[r1,r2]=1; P[r2,r1]=1; P[r1,r1]=0; P[r2,r2]=0;\n",
    "    return P\n",
    "\n",
    "def forwardSolve(L,B):\n",
    "    \"\"\"\n",
    "    This code implements a forward substitution solver\n",
    "\n",
    "    Input: Lower diagonal non-singular matrix L, matrix B\n",
    "    Output: Matrix X such that LX=B\n",
    "    \"\"\"\n",
    "    n=L.shape[0]\n",
    "    if len(B.shape)<=1:\n",
    "        m=1\n",
    "    else:\n",
    "        m=B.shape[1]\n",
    "\n",
    "    if B.shape[0]!=n:\n",
    "        raise ValueError(\"Incompatible sizes. L has size {} whereas B has size {}.\".format(L.shape,B.shape))\n",
    "\n",
    "    X=np.zeros([n,m])\n",
    "\n",
    "    for i in range(n):\n",
    "        if L[i,i]==0:\n",
    "            raise ValueError(\"Matrix should be non-singular\")\n",
    "        X[i]=(B[i]-sum([L[i,t]*X[t] for t in range(i)]))/L[i,i]\n",
    "\n",
    "    return X\n",
    "\n",
    "def backwardSolve(U,B):\n",
    "    \"\"\"\n",
    "    This code implements a backward substitution solver\n",
    "\n",
    "    Input: Lower diagonal non-singular matrix L, matrix B\n",
    "    Output: Matrix X such that LX=B\n",
    "    \"\"\"\n",
    "    n=U.shape[0]\n",
    "    if len(B.shape)<=1:\n",
    "        m=1\n",
    "    else:\n",
    "        m=B.shape[1]\n",
    "\n",
    "    if B.shape[0]!=n:\n",
    "        raise ValueError(\"Incompatible sizes. L has size {} whereas B has size {}.\".format(L.shape,B.shape))\n",
    "\n",
    "    X=np.zeros([n,m])\n",
    "\n",
    "    for i in range(n):\n",
    "        i=n-1-i\n",
    "        if U[i,i]==0:\n",
    "            raise ValueError(\"Matrix should be non-singular\")\n",
    "        X[i]=(B[i]-sum([U[i,t]*X[t] for t in range(i+1,n)]))/U[i,i]\n",
    "\n",
    "    return X\n",
    "\n",
    "\n",
    "def LU(A):\n",
    "    \"\"\"\n",
    "    This function implements simple LU decomposition heuristic using Gaussian elimination.\n",
    "    The complexity of the algorithm is O(n^3/2). WARNING: Not vectorized, so it might be slow for large matrices.\n",
    "    \"\"\"\n",
    "    A=A.astype('f')\n",
    "    n=A.shape[0]\n",
    "    L=np.eye(n)\n",
    "    U=A.copy()\n",
    "    P=np.eye(n)\n",
    "    Pinv=np.eye(n)\n",
    "    for i in range(n):\n",
    "        stepDone=False\n",
    "        while  not stepDone: \n",
    "            if U[i,i]!=0:\n",
    "                #Gaussian Elimination Step\n",
    "                tempL=np.eye(n)\n",
    "                for i2 in range(i+1,n):\n",
    "                    l=U[i2,i]/U[i,i]\n",
    "                    U[i2]=U[i2]-l*U[i]\n",
    "                    tempL[i2,i]=-l\n",
    "                L=np.matmul(tempL,L)\n",
    "                stepDone=True                   \n",
    "            else:\n",
    "                #Check non-zero element in column\n",
    "                i2=i+1\n",
    "                while i2<n:\n",
    "                    if U[i2,i]!=0:\n",
    "                        #Permute rows\n",
    "                        temp=U[i].copy()\n",
    "                        U[i]=U[i2]\n",
    "                        U[i2]=temp\n",
    "                        #Save Permutation Matrix\n",
    "                        P=np.matmul(transpositionMatrix(n,i2,i),P)\n",
    "                        Pinv=np.matmul(Pinv,transpositionMatrix(n,i2,i))\n",
    "                        break\n",
    "                    else:\n",
    "                        i2+=1\n",
    "                if i2>=n:\n",
    "                    #No non-zero value found, continue to next step\n",
    "                    stepDone=True\n",
    "\n",
    "    L=forwardSolve(L,np.eye(n))    \n",
    "    return P, Pinv, L, U \n",
    "\n",
    "def LUSolver(A,B):\n",
    "    \"\"\"\n",
    "    This program solves the system of linear AX=B equation using LU factorization\n",
    "    \n",
    "    Input: Matrices A and B of compatible sizes\n",
    "    \"\"\"\n",
    "    P,Pinv, L,U=LU(A)\n",
    "    X=forwardSolve(L,np.matmul(Pinv,B))\n",
    "    X=backwardSolve(U,X)\n",
    "    \n",
    "    return X\n",
    "\n",
    "def Cholesky(A):\n",
    "    \"\"\"\n",
    "    This is a simple algorithm to calculate the cholesky factorization of a\n",
    "    positive definite matrix. WARNING: Precision is not the best for this one.\n",
    "    \n",
    "    Input: Square, positive definite A (no complex for now)\n",
    "    Output: Lower triangular matrix L and diagonal matrix D such that A=LDL^T\n",
    "    \"\"\"\n",
    "    A=A.astype('f')\n",
    "    n=A.shape[0]\n",
    "    \n",
    "    #Sanity check\n",
    "    if n!=A.shape[1]:\n",
    "        raise ValueException(\"Matrix A should be square matrix\")\n",
    "    if not (A==A.T).all():\n",
    "        raise ValueException(\"Matrix A should symmetric\")\n",
    "    \n",
    "    i=0\n",
    "    L=np.eye(n)\n",
    "    while i<n:\n",
    "        a=A[i,i]\n",
    "        if a==0:\n",
    "            raise ValueException(\"Matrix A is singular.\")\n",
    "        if a<0:\n",
    "            raise ValueException(\"Matrix is not positive semidefinite.\")\n",
    "            \n",
    "        b=A[i+1:,i].reshape((n-i-1,1))\n",
    "        B=A[i+1:,i+1:]-np.matmul(b,b.T)/a\n",
    "        \n",
    "        #Update A\n",
    "        subA=np.block([[A[:i, :i], np.zeros((A[:i,:i].shape[0],1))],[np.zeros((1,A[:i,:i].shape[1])),a]])\n",
    "        A=np.block([[subA, np.zeros((subA.shape[0],n-subA.shape[0]))],[np.zeros((n-subA.shape[0],subA.shape[1])), B]])\n",
    "        \n",
    "        #Update L\n",
    "        subL=np.block([[1, np.zeros((1,b.shape[0]))],[b/a,np.eye(b.shape[0]) ]])\n",
    "        tempL=np.block([[np.eye(i), np.zeros((i,subL.shape[0]))], [np.zeros((subL.shape[0],i)),subL]])\n",
    "        L=np.matmul(L,tempL)\n",
    "        i+=1\n",
    "    return L, A"
   ]
  },
  {
   "cell_type": "code",
   "execution_count": 212,
   "id": "expected-poverty",
   "metadata": {},
   "outputs": [
    {
     "data": {
      "text/plain": [
       "array([[2.95660408, 1.24660392, 1.05064089],\n",
       "       [1.24660392, 3.62451883, 1.36914851],\n",
       "       [1.05064089, 1.36914851, 3.15392176]])"
      ]
     },
     "execution_count": 212,
     "metadata": {},
     "output_type": "execute_result"
    }
   ],
   "source": [
    "np.random.seed(0)\n",
    "Ar=np.random.random(3).reshape((3,1))\n",
    "Ar=np.eye(3)+np.matmul(r,r.T)\n",
    "Ar"
   ]
  },
  {
   "cell_type": "code",
   "execution_count": 213,
   "id": "comic-energy",
   "metadata": {},
   "outputs": [
    {
     "data": {
      "text/plain": [
       "1.675275486656903e-07"
      ]
     },
     "execution_count": 213,
     "metadata": {},
     "output_type": "execute_result"
    }
   ],
   "source": [
    "P,Pinv,L,U=LU(Ar)\n",
    "np.linalg.norm(np.matmul(np.matmul(P,L),U)-Ar)"
   ]
  },
  {
   "cell_type": "code",
   "execution_count": 216,
   "id": "parallel-victim",
   "metadata": {},
   "outputs": [
    {
     "data": {
      "text/plain": [
       "2.2373316256180624e-08"
      ]
     },
     "execution_count": 216,
     "metadata": {},
     "output_type": "execute_result"
    }
   ],
   "source": [
    "br=np.random.random(3).reshape((3,1))\n",
    "x=LUSolver(Ar,br)\n",
    "np.linalg.norm(np.matmul(Ar,x)-br)"
   ]
  },
  {
   "cell_type": "code",
   "execution_count": 218,
   "id": "southern-timeline",
   "metadata": {
    "scrolled": true
   },
   "outputs": [
    {
     "data": {
      "text/plain": [
       "array([[0.02524883],\n",
       "       [0.1789237 ],\n",
       "       [0.08161088]])"
      ]
     },
     "execution_count": 218,
     "metadata": {},
     "output_type": "execute_result"
    }
   ],
   "source": [
    "x"
   ]
  },
  {
   "cell_type": "code",
   "execution_count": 219,
   "id": "comic-victor",
   "metadata": {},
   "outputs": [
    {
     "data": {
      "text/plain": [
       "array([[0.02524883],\n",
       "       [0.1789237 ],\n",
       "       [0.08161089]])"
      ]
     },
     "execution_count": 219,
     "metadata": {},
     "output_type": "execute_result"
    }
   ],
   "source": [
    "np.linalg.solve(Ar,br)"
   ]
  },
  {
   "cell_type": "code",
   "execution_count": 217,
   "id": "existing-integer",
   "metadata": {},
   "outputs": [
    {
     "data": {
      "text/plain": [
       "0.0"
      ]
     },
     "execution_count": 217,
     "metadata": {},
     "output_type": "execute_result"
    }
   ],
   "source": [
    "np.linalg.norm(np.matmul(Ar,np.linalg.solve(Ar,br))-br)"
   ]
  },
  {
   "cell_type": "code",
   "execution_count": 210,
   "id": "surprising-blackjack",
   "metadata": {},
   "outputs": [
    {
     "data": {
      "text/plain": [
       "6.942356558539425e-08"
      ]
     },
     "execution_count": 210,
     "metadata": {},
     "output_type": "execute_result"
    }
   ],
   "source": [
    "L,D=Cholesky(r)\n",
    "np.linalg.norm(np.matmul(np.matmul(L,D),L.T)-r)"
   ]
  },
  {
   "cell_type": "code",
   "execution_count": 211,
   "id": "charitable-incentive",
   "metadata": {},
   "outputs": [
    {
     "data": {
      "text/plain": [
       "3.1401849173675503e-16"
      ]
     },
     "execution_count": 211,
     "metadata": {},
     "output_type": "execute_result"
    }
   ],
   "source": [
    "L2=np.linalg.cholesky(r)\n",
    "np.linalg.norm(np.matmul(L2,L2.T)-r)"
   ]
  },
  {
   "cell_type": "code",
   "execution_count": 200,
   "id": "existing-correlation",
   "metadata": {},
   "outputs": [],
   "source": [
    "def diag2(x):\n",
    "    \"\"\"\n",
    "    Return diagonal matrix diag(x). Different to np.diag as np.diag of the zero vector returns a 1x1 matrix always.\n",
    "    \"\"\"\n",
    "    n=len(x)\n",
    "    X=np.zeros((n,n))\n",
    "    for i in range(n):\n",
    "        X[i,i]=x[i]\n",
    "        \n",
    "    return X\n",
    "    \n",
    "\n",
    "def basicInteriorLP(c,A,b):\n",
    "    \"\"\"\n",
    "    This is a basic solver of LP using interior point method algorithm.\n",
    "    \n",
    "    Input: Problem in form min c^t x : A x <= b\n",
    "    Output: Optimal Value, Primal Solution, Dual Solution\n",
    "    \n",
    "    WARNING: Not efficient for the moment... Mehrotra's simple implementation in progress\n",
    "    \"\"\"\n",
    "    epsilon=1e-10\n",
    "    (m,n)=A.shape\n",
    "    \n",
    "    x=np.ones((n,1))\n",
    "    s=np.ones((n,1))\n",
    "    l=np.ones((m,1))\n",
    "    \n",
    "    #duality measure\n",
    "    mu=np.mean(x*s)\n",
    "    err1=np.linalg.norm(b-np.matmul(A,x))/max([np.linalg.norm(b),1])\n",
    "    err2=np.linalg.norm(c-s-np.matmul(A.T,l))/max([np.linalg.norm(c),1])\n",
    "\n",
    "    while max([mu,err1,err2])>epsilon:\n",
    "        err1=np.linalg.norm(b-np.matmul(A,x))/max([np.linalg.norm(b),1])\n",
    "        err2=np.linalg.norm(c-s-np.matmul(A.T,l))/max([np.linalg.norm(c),1])\n",
    "        \n",
    "        print(\"Central: {} Primal: {} Dual: {}\".format(mu,err1,err2))\n",
    "        #Compute the jacobian and function:\n",
    "        J=np.block([[np.zeros((n,n)),A.T,np.eye(n)],[A,np.zeros((m,m)),np.zeros((m,n))],[diag2(s),np.zeros((n,m)), diag2(x)]])\n",
    "        F=np.block([[np.matmul(A.T,l)+s-c],[np.matmul(A,x)-b],[x*s]])\n",
    "        \n",
    "        #Solve the Newton step:\n",
    "        \n",
    "        #Find an LU factorization of the jacobian\n",
    "        P,Pinv,L,U=LU(J)\n",
    "        \n",
    "        #Find the affine scaling direction:\n",
    "        aff=forwardSolve(L,np.matmul(Pinv,-F))\n",
    "        aff=backwardSolve(U,aff)\n",
    "        \n",
    "        aff=np.linalg.solve(J,-F)\n",
    "        \n",
    "        #Determine if step is good\n",
    "        dx=aff[:n]\n",
    "        ds=aff[-n:]\n",
    "        dl=aff[n:-n]\n",
    "        delta1=min([1]+[-x[i]/dx[i] for i in range(n) if dx[i]<0])\n",
    "        delta2=min([1]+[-s[i]/ds[i] for i in range(n) if ds[i]<0])\n",
    "        \n",
    "        if min([delta1,delta2])<1:\n",
    "            #not full step possible, we need center-correction\n",
    "            \n",
    "            muaff=np.mean((x+delta1*dx)*(s+delta2*ds))\n",
    "            sigma=min(0.208, (muaff/mu)**2)\n",
    "            \n",
    "            F2=np.block([[np.zeros((n+m,1))],[aff[:n]*aff[-n:]-sigma*muaff*np.ones((n,1))]])\n",
    "            \n",
    "            #ccorr=forwardSolve(L,np.matmul(Pinv,-F2))\n",
    "            #ccorr=backwardSolve(U,ccorr)\n",
    "            \n",
    "            ccorr=np.linalg.solve(J,-F2)\n",
    "            \n",
    "            dx+=ccorr[:n]\n",
    "            dl+=ccorr[n:-n]\n",
    "            ds+=ccorr[-n:]\n",
    "        \n",
    "        #step length to guarantee feasibility\n",
    "        delta1=min([1]+[-x[i]/dx[i] for i in range(n) if dx[i]<0])\n",
    "        delta2=min([1]+[-s[i]/ds[i] for i in range(n) if ds[i]<0])\n",
    "        \n",
    "        #step length to guarantee that we are close to the central path:\n",
    "        \n",
    "        for alpha in [1, .9975, .95, .90, .75, .50]:\n",
    "            xs=(x+alpha*delta1*dx)*(s+alpha*delta2*ds)\n",
    "            if np.min(xs)>=1e-6*np.mean(xs):\n",
    "                delta1=alpha*delta1\n",
    "                delta2=alpha*delta2\n",
    "                break\n",
    "        \n",
    "        x+=delta1*dx\n",
    "        s+=delta2*ds\n",
    "        l+=delta2*dl\n",
    "        \n",
    "        mu=np.mean(x*s)\n",
    "    return np.matmul(c.T,x), x,s  "
   ]
  },
  {
   "cell_type": "code",
   "execution_count": 201,
   "id": "personal-capitol",
   "metadata": {},
   "outputs": [],
   "source": [
    "A=np.array([[1,4,1,0],[1,1,0,1]])\n",
    "b=np.array([[8],[4]])\n",
    "c=np.array([[2],[5],[0],[0]])"
   ]
  },
  {
   "cell_type": "code",
   "execution_count": 202,
   "id": "disabled-killer",
   "metadata": {},
   "outputs": [
    {
     "name": "stdout",
     "output_type": "stream",
     "text": [
      "Central: 1.0 Primal: 0.25 Dual: 2.3044185443591205\n",
      "Central: 0.2475916448278927 Primal: 0.03850594572783072 Dual: 0.35202986224744426\n",
      "Central: 0.01897211394479829 Primal: 9.626486431957293e-05 Dual: 0.015113703207410645\n",
      "Central: 4.967101781870736e-05 Primal: 2.4917644372290935e-07 Dual: 3.7784258018603556e-05\n",
      "Central: 1.2417928376690224e-07 Primal: 6.229414539760129e-10 Dual: 9.446064510742916e-08\n",
      "Central: 3.1044822002444885e-10 Primal: 1.557309836641707e-12 Dual: 2.3615156258039155e-10\n",
      "Central: 7.761205501273799e-13 Primal: 3.9968028886505635e-15 Dual: 5.903733510635419e-13\n"
     ]
    },
    {
     "data": {
      "text/plain": [
       "(array([[-12.]]),\n",
       " array([[2.66666667e+00],\n",
       "        [1.33333333e+00],\n",
       "        [2.74068080e-16],\n",
       "        [6.46955452e-15]]),\n",
       " array([[3.09190749e-16],\n",
       "        [1.44805677e-16],\n",
       "        [1.00000000e+00],\n",
       "        [1.00000000e+00]]))"
      ]
     },
     "execution_count": 202,
     "metadata": {},
     "output_type": "execute_result"
    }
   ],
   "source": [
    "basicInteriorLP(-c,A,b)"
   ]
  }
 ],
 "metadata": {
  "kernelspec": {
   "display_name": "Python [conda env:research] *",
   "language": "python",
   "name": "conda-env-research-py"
  },
  "language_info": {
   "codemirror_mode": {
    "name": "ipython",
    "version": 3
   },
   "file_extension": ".py",
   "mimetype": "text/x-python",
   "name": "python",
   "nbconvert_exporter": "python",
   "pygments_lexer": "ipython3",
   "version": "3.9.1"
  }
 },
 "nbformat": 4,
 "nbformat_minor": 5
}
